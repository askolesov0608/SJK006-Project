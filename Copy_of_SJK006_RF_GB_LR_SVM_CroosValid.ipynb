{
  "nbformat": 4,
  "nbformat_minor": 0,
  "metadata": {
    "colab": {
      "provenance": [],
      "authorship_tag": "ABX9TyMwwlpOh23YQmV0mXnmf2mM",
      "include_colab_link": true
    },
    "kernelspec": {
      "name": "python3",
      "display_name": "Python 3"
    },
    "language_info": {
      "name": "python"
    }
  },
  "cells": [
    {
      "cell_type": "markdown",
      "metadata": {
        "id": "view-in-github",
        "colab_type": "text"
      },
      "source": [
        "<a href=\"https://colab.research.google.com/github/askolesov0608/SJK006-Project/blob/main/Copy_of_SJK006_RF_GB_LR_SVM_CroosValid.ipynb\" target=\"_parent\"><img src=\"https://colab.research.google.com/assets/colab-badge.svg\" alt=\"Open In Colab\"/></a>"
      ]
    },
    {
      "cell_type": "code",
      "execution_count": 4,
      "metadata": {
        "colab": {
          "base_uri": "https://localhost:8080/"
        },
        "id": "tRkDdvRw1Cfo",
        "outputId": "b8b75f15-19b2-442d-c11e-8242106914d0"
      },
      "outputs": [
        {
          "output_type": "stream",
          "name": "stdout",
          "text": [
            "Модель: Random Forest\n",
            "Средняя точность: 0.9779, Стандартное отклонение: 0.00480520551069359\n",
            "Модель: Gradient Boosting\n",
            "Средняя точность: 0.8181, Стандартное отклонение: 0.010348429832588097\n",
            "Модель: Logistic Regression\n",
            "Средняя точность: 0.29009999999999997, Стандартное отклонение: 0.01325481044753186\n",
            "Модель: SVM\n",
            "Средняя точность: 0.7748, Стандартное отклонение: 0.012718490476467729\n"
          ]
        }
      ],
      "source": [
        "import pandas as pd\n",
        "from sklearn.model_selection import train_test_split, cross_val_score\n",
        "from sklearn.ensemble import RandomForestClassifier, GradientBoostingClassifier\n",
        "from sklearn.linear_model import LogisticRegression\n",
        "from sklearn.svm import SVC\n",
        "from sklearn.preprocessing import StandardScaler\n",
        "from sklearn.utils import resample\n",
        "\n",
        "# Загрузка данных\n",
        "file_path = 'TestDataCV_DigitalV2.xlsx'\n",
        "data = pd.read_excel(file_path)\n",
        "\n",
        "# Создание новой целевой переменной для должности\n",
        "positions = ['Human Resources', 'Research & Development', 'Sales',\n",
        "             'Life Sciences', 'Marketing', 'Medical', 'Other']\n",
        "data['Position'] = (data[positions] == 1).dot(range(1, len(positions) + 1))\n",
        "\n",
        "# Выбор признаков для модели\n",
        "features_columns = ['Age', 'DistanceFromHome', 'Education', 'EnvironmentSatisfaction',\n",
        "                    'HourlyRate', 'JobInvolvement', 'JobLevel', 'GenderM', 'GenderF',\n",
        "                    'Single', 'Married', 'Divorced']\n",
        "features = data[features_columns]\n",
        "target = data['Position']\n",
        "\n",
        "# Бутстрэппинг каждого класса до 1000 записей\n",
        "bootstrapped_data = pd.DataFrame(columns=features_columns + ['Position'])\n",
        "for position in target.unique():\n",
        "    position_data = data[data['Position'] == position]\n",
        "    bootstrapped_sample = resample(position_data, replace=True, n_samples=1000, random_state=42)\n",
        "    bootstrapped_data = pd.concat([bootstrapped_data, bootstrapped_sample])\n",
        "\n",
        "# Подготовка данных для обучения\n",
        "X = bootstrapped_data[features_columns]\n",
        "y = bootstrapped_data['Position'].astype(int)  # Убедитесь, что y - это массив целых чисел\n",
        "\n",
        "# Масштабирование признаков\n",
        "X_scaled = StandardScaler().fit_transform(X)\n",
        "\n",
        "# Определение моделей для сравнения\n",
        "models = {\n",
        "    \"Random Forest\": RandomForestClassifier(random_state=42),\n",
        "    \"Gradient Boosting\": GradientBoostingClassifier(random_state=42),\n",
        "    \"Logistic Regression\": LogisticRegression(random_state=42),\n",
        "    \"SVM\": SVC(random_state=42)\n",
        "}\n",
        "\n",
        "# Кросс-валидация для каждой модели\n",
        "cv_scores = {}\n",
        "for name, model in models.items():\n",
        "    scores = cross_val_score(model, X_scaled, y, cv=10)\n",
        "    cv_scores[name] = scores\n",
        "    print(f\"Модель: {name}\")\n",
        "    print(f\"Средняя точность: {scores.mean()}, Стандартное отклонение: {scores.std()}\")"
      ]
    }
  ]
}