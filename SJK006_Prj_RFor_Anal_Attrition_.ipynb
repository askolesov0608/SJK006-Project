{
  "nbformat": 4,
  "nbformat_minor": 0,
  "metadata": {
    "colab": {
      "provenance": [],
      "authorship_tag": "ABX9TyNjt5bVk/P1Roi4PAxTFWE8",
      "include_colab_link": true
    },
    "kernelspec": {
      "name": "python3",
      "display_name": "Python 3"
    },
    "language_info": {
      "name": "python"
    }
  },
  "cells": [
    {
      "cell_type": "markdown",
      "metadata": {
        "id": "view-in-github",
        "colab_type": "text"
      },
      "source": [
        "<a href=\"https://colab.research.google.com/github/askolesov0608/SJK006-Project/blob/main/SJK006_Prj_RFor_Anal_Attrition_.ipynb\" target=\"_parent\"><img src=\"https://colab.research.google.com/assets/colab-badge.svg\" alt=\"Open In Colab\"/></a>"
      ]
    },
    {
      "cell_type": "code",
      "execution_count": 2,
      "metadata": {
        "colab": {
          "base_uri": "https://localhost:8080/"
        },
        "id": "LP2mqjYtoXBf",
        "outputId": "e9b9601c-0278-47e4-9f2c-14eb8046abf5"
      },
      "outputs": [
        {
          "output_type": "stream",
          "name": "stdout",
          "text": [
            "Точность модели: 0.8355855855855856\n",
            "Отчет о классификации:\n",
            "              precision    recall  f1-score   support\n",
            "\n",
            "           0       0.85      0.97      0.91       371\n",
            "           1       0.50      0.14      0.22        73\n",
            "\n",
            "    accuracy                           0.84       444\n",
            "   macro avg       0.68      0.56      0.56       444\n",
            "weighted avg       0.79      0.84      0.79       444\n",
            "\n"
          ]
        }
      ],
      "source": [
        "import pandas as pd\n",
        "from sklearn.model_selection import train_test_split\n",
        "from sklearn.ensemble import RandomForestClassifier\n",
        "from sklearn.metrics import accuracy_score, classification_report\n",
        "from sklearn.preprocessing import StandardScaler\n",
        "\n",
        "# Загрузка данных\n",
        "file_path = 'TestDataCV_DigitalV2.xlsx'\n",
        "data = pd.read_excel(file_path)\n",
        "\n",
        "# Выбор признаков для модели\n",
        "features = data[['Age', 'DistanceFromHome', 'Education', 'EnvironmentSatisfaction',\n",
        "                 'HourlyRate', 'JobInvolvement', 'JobLevel', 'GenderM', 'GenderF',\n",
        "                 'Single', 'Married', 'Divorced']]\n",
        "\n",
        "# Целевая переменная (продолжительность работы в компании)\n",
        "target_attrition = data['Attrition']\n",
        "\n",
        "# Масштабирование признаков\n",
        "scaler = StandardScaler()\n",
        "features_scaled = scaler.fit_transform(features)\n",
        "\n",
        "# Разделение данных на обучающий и тестовый наборы\n",
        "X_train, X_test, y_train, y_test = train_test_split(features_scaled, target_attrition, test_size=0.3, random_state=42)\n",
        "\n",
        "# Обучение модели Random Forest\n",
        "rf_model = RandomForestClassifier(random_state=42)\n",
        "rf_model.fit(X_train, y_train)\n",
        "\n",
        "# Предсказания на тестовом наборе\n",
        "y_pred = rf_model.predict(X_test)\n",
        "\n",
        "# Оценка точности модели\n",
        "accuracy = accuracy_score(y_test, y_pred)\n",
        "report = classification_report(y_test, y_pred)\n",
        "\n",
        "print(f\"Точность модели: {accuracy}\")\n",
        "print(\"Отчет о классификации:\")\n",
        "print(report)"
      ]
    }
  ]
}