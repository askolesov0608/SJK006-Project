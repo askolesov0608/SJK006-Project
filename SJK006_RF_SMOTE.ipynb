{
  "nbformat": 4,
  "nbformat_minor": 0,
  "metadata": {
    "colab": {
      "provenance": [],
      "authorship_tag": "ABX9TyMPgR9ACKANKKpaOkZLmeOe",
      "include_colab_link": true
    },
    "kernelspec": {
      "name": "python3",
      "display_name": "Python 3"
    },
    "language_info": {
      "name": "python"
    }
  },
  "cells": [
    {
      "cell_type": "markdown",
      "metadata": {
        "id": "view-in-github",
        "colab_type": "text"
      },
      "source": [
        "<a href=\"https://colab.research.google.com/github/askolesov0608/SJK006-Project/blob/main/SJK006_RF_SMOTE.ipynb\" target=\"_parent\"><img src=\"https://colab.research.google.com/assets/colab-badge.svg\" alt=\"Open In Colab\"/></a>"
      ]
    },
    {
      "cell_type": "code",
      "execution_count": 4,
      "metadata": {
        "colab": {
          "base_uri": "https://localhost:8080/"
        },
        "id": "tRkDdvRw1Cfo",
        "outputId": "bb243f7e-e9b6-4cb1-9fa2-1f71175d5f42"
      },
      "outputs": [
        {
          "output_type": "stream",
          "name": "stdout",
          "text": [
            "Точность модели после SMOTE: 0.2747747747747748\n",
            "Отчет о классификации:\n",
            "              precision    recall  f1-score   support\n",
            "\n",
            "           0       0.00      0.00      0.00         2\n",
            "           1       0.00      0.00      0.00        10\n",
            "           2       0.18      0.05      0.08        39\n",
            "           3       0.00      0.00      0.00        10\n",
            "           4       0.00      0.00      0.00         3\n",
            "           6       0.31      0.40      0.35       131\n",
            "           7       0.08      0.04      0.06        45\n",
            "           8       0.34      0.37      0.35       163\n",
            "           9       0.08      0.12      0.09        34\n",
            "          10       0.00      0.00      0.00         7\n",
            "\n",
            "    accuracy                           0.27       444\n",
            "   macro avg       0.10      0.10      0.09       444\n",
            "weighted avg       0.25      0.27      0.25       444\n",
            "\n"
          ]
        },
        {
          "output_type": "stream",
          "name": "stderr",
          "text": [
            "/usr/local/lib/python3.10/dist-packages/sklearn/metrics/_classification.py:1344: UndefinedMetricWarning: Precision and F-score are ill-defined and being set to 0.0 in labels with no predicted samples. Use `zero_division` parameter to control this behavior.\n",
            "  _warn_prf(average, modifier, msg_start, len(result))\n",
            "/usr/local/lib/python3.10/dist-packages/sklearn/metrics/_classification.py:1344: UndefinedMetricWarning: Precision and F-score are ill-defined and being set to 0.0 in labels with no predicted samples. Use `zero_division` parameter to control this behavior.\n",
            "  _warn_prf(average, modifier, msg_start, len(result))\n",
            "/usr/local/lib/python3.10/dist-packages/sklearn/metrics/_classification.py:1344: UndefinedMetricWarning: Precision and F-score are ill-defined and being set to 0.0 in labels with no predicted samples. Use `zero_division` parameter to control this behavior.\n",
            "  _warn_prf(average, modifier, msg_start, len(result))\n"
          ]
        }
      ],
      "source": [
        "import pandas as pd\n",
        "from sklearn.model_selection import train_test_split, RandomizedSearchCV\n",
        "from sklearn.ensemble import RandomForestClassifier\n",
        "from sklearn.metrics import accuracy_score, classification_report\n",
        "from sklearn.preprocessing import StandardScaler\n",
        "from imblearn.over_sampling import SMOTE\n",
        "\n",
        "# Загрузка данных\n",
        "file_path = 'TestDataCV_DigitalV2.xlsx'\n",
        "data = pd.read_excel(file_path)\n",
        "\n",
        "# Выбор признаков для модели\n",
        "features = data[['Age', 'DistanceFromHome', 'Education', 'EnvironmentSatisfaction',\n",
        "                 'HourlyRate', 'JobInvolvement', 'JobLevel', 'GenderM', 'GenderF',\n",
        "                 'Single', 'Married', 'Divorced']]\n",
        "\n",
        "# Создание новой целевой переменной для должности\n",
        "positions = ['Human Resources', 'Research & Development', 'Sales',\n",
        "             'Life Sciences', 'Marketing', 'Medical', 'Other']\n",
        "data['Position'] = (data[positions] == 1).dot(range(1, len(positions) + 1))\n",
        "\n",
        "# Масштабирование признаков\n",
        "scaler = StandardScaler()\n",
        "features_scaled = scaler.fit_transform(features)\n",
        "\n",
        "# Разделение данных на обучающий и тестовый наборы\n",
        "X_train, X_test, y_train, y_test = train_test_split(features_scaled, data['Position'], test_size=0.3, random_state=42)\n",
        "\n",
        "# Применение SMOTE для увеличения количества данных\n",
        "smote = SMOTE(k_neighbors=1)\n",
        "X_train_smote, y_train_smote = smote.fit_resample(X_train, y_train)\n",
        "\n",
        "# Обучение модели Random Forest на данных после SMOTE\n",
        "rf_model = RandomForestClassifier(random_state=42, class_weight='balanced')\n",
        "rf_model.fit(X_train_smote, y_train_smote)\n",
        "\n",
        "# Предсказания на тестовом наборе\n",
        "y_pred = rf_model.predict(X_test)\n",
        "\n",
        "# Оценка точности модели\n",
        "accuracy = accuracy_score(y_test, y_pred)\n",
        "report = classification_report(y_test, y_pred)\n",
        "\n",
        "print(f\"Точность модели после SMOTE: {accuracy}\")\n",
        "print(\"Отчет о классификации:\")\n",
        "print(report)\n"
      ]
    }
  ]
}